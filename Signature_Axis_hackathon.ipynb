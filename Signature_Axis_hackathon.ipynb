{
 "cells": [
  {
   "cell_type": "markdown",
   "metadata": {},
   "source": [
    "## One Shot Learning with Siamese Networks"
   ]
  },
  {
   "cell_type": "code",
   "execution_count": 2,
   "metadata": {},
   "outputs": [],
   "source": [
    "%matplotlib inline\n",
    "import torchvision\n",
    "import torchvision.datasets as dset\n",
    "import torchvision.transforms as transforms\n",
    "from torch.utils.data import DataLoader,Dataset\n",
    "import matplotlib.pyplot as plt\n",
    "import torchvision.utils\n",
    "import numpy as np\n",
    "import random\n",
    "from PIL import Image\n",
    "import torch\n",
    "from torch.autograd import Variable\n",
    "import PIL.ImageOps    \n",
    "import torch.nn as nn\n",
    "from torch import optim\n",
    "import torch.nn.functional as F"
   ]
  },
  {
   "cell_type": "code",
   "execution_count": 3,
   "metadata": {},
   "outputs": [],
   "source": [
    "def imshow(img,text=None,should_save=False):\n",
    "    npimg = img.numpy()\n",
    "    plt.axis(\"off\")\n",
    "    if text:\n",
    "        plt.text(75, 8, text, style='italic',fontweight='bold',\n",
    "            bbox={'facecolor':'white', 'alpha':0.8, 'pad':10})\n",
    "    plt.imshow(np.transpose(npimg, (1, 2, 0)))\n",
    "    plt.show()    \n",
    "\n",
    "def show_plot(iteration,loss):\n",
    "    plt.plot(iteration,loss)\n",
    "    plt.show()"
   ]
  },
  {
   "cell_type": "code",
   "execution_count": 4,
   "metadata": {},
   "outputs": [],
   "source": [
    "class Config():\n",
    "    training_dir = \"./data/train/\"\n",
    "    testing_dir = \"./data/test/\"\n",
    "    train_batch_size = 64\n",
    "    train_number_epochs = 100"
   ]
  },
  {
   "cell_type": "markdown",
   "metadata": {},
   "source": [
    "### Custom Dataset Class\n",
    "\n",
    "This dataset generates a pair of images. 0 for geniune pair and 1 for imposter pair"
   ]
  },
  {
   "cell_type": "code",
   "execution_count": 5,
   "metadata": {},
   "outputs": [],
   "source": [
    "class SiameseNetworkDataset(Dataset):\n",
    "    \n",
    "    def __init__(self,imageFolderDataset,transform=None,should_invert=True):\n",
    "        self.imageFolderDataset = imageFolderDataset    \n",
    "        self.transform = transform\n",
    "        self.should_invert = should_invert\n",
    "        \n",
    "    def __getitem__(self,index):\n",
    "        img0_tuple = random.choice(self.imageFolderDataset.imgs)\n",
    "        #we need to make sure approx 50% of images are in the same class\n",
    "        should_get_same_class = random.randint(0,1) \n",
    "        if should_get_same_class:\n",
    "            while True:\n",
    "                #keep looping till the same class image is found\n",
    "                img1_tuple = random.choice(self.imageFolderDataset.imgs) \n",
    "                if img0_tuple[1]==img1_tuple[1]:\n",
    "                    break\n",
    "        else:\n",
    "            while True:\n",
    "                #keep looping till a different class image is found\n",
    "                \n",
    "                img1_tuple = random.choice(self.imageFolderDataset.imgs) \n",
    "                if img0_tuple[1] !=img1_tuple[1]:\n",
    "                    break\n",
    "\n",
    "        img0 = Image.open(img0_tuple[0])\n",
    "        img1 = Image.open(img1_tuple[0])\n",
    "        img0 = img0.convert(\"L\")\n",
    "        img1 = img1.convert(\"L\")\n",
    "        \n",
    "        if self.should_invert:\n",
    "            img0 = PIL.ImageOps.invert(img0)\n",
    "            img1 = PIL.ImageOps.invert(img1)\n",
    "\n",
    "        if self.transform is not None:\n",
    "            img0 = self.transform(img0)\n",
    "            img1 = self.transform(img1)\n",
    "        \n",
    "        return img0, img1 , torch.from_numpy(np.array([int(img1_tuple[1]!=img0_tuple[1])],dtype=np.float32))\n",
    "    \n",
    "    def __len__(self):\n",
    "        return len(self.imageFolderDataset.imgs)"
   ]
  },
  {
   "cell_type": "markdown",
   "metadata": {},
   "source": [
    "### Using Image Folder Dataset"
   ]
  },
  {
   "cell_type": "code",
   "execution_count": 6,
   "metadata": {},
   "outputs": [],
   "source": [
    "folder_dataset = dset.ImageFolder(root=Config.training_dir)"
   ]
  },
  {
   "cell_type": "code",
   "execution_count": 7,
   "metadata": {},
   "outputs": [],
   "source": [
    "siamese_dataset = SiameseNetworkDataset(imageFolderDataset=folder_dataset,\n",
    "                                        transform=transforms.Compose([transforms.Resize((28,28)),\n",
    "                                                                      transforms.ToTensor()\n",
    "                                                                      ])\n",
    "                                       ,should_invert=False)"
   ]
  },
  {
   "cell_type": "markdown",
   "metadata": {},
   "source": [
    "### Visualising some of the data"
   ]
  },
  {
   "cell_type": "code",
   "execution_count": 8,
   "metadata": {
    "scrolled": true
   },
   "outputs": [
    {
     "data": {
      "image/png": "[encoded data removed]",
      "text/plain": [
       "<Figure size 432x288 with 1 Axes>"
      ]
     },
     "metadata": {
      "needs_background": "light"
     },
     "output_type": "display_data"
    },
    {
     "name": "stdout",
     "output_type": "stream",
     "text": [
      "[[1.]\n",
      " [0.]\n",
      " [0.]\n",
      " [0.]\n",
      " [1.]\n",
      " [0.]\n",
      " [0.]\n",
      " [0.]]\n"
     ]
    }
   ],
   "source": [
    "vis_dataloader = DataLoader(siamese_dataset,\n",
    "                        shuffle=True,\n",
    "                        num_workers=0,\n",
    "                        batch_size=8)\n",
    "dataiter = iter(vis_dataloader)\n",
    "\n",
    "\n",
    "example_batch = next(dataiter)\n",
    "concatenated = torch.cat((example_batch[0],example_batch[1]),0)\n",
    "imshow(torchvision.utils.make_grid(concatenated))\n",
    "print(example_batch[2].numpy())"
   ]
  },
  {
   "cell_type": "markdown",
   "metadata": {},
   "source": [
    "### Neural Net Definition"
   ]
  },
  {
   "cell_type": "code",
   "execution_count": 9,
   "metadata": {},
   "outputs": [],
   "source": [
    "class SiameseNetwork(nn.Module):\n",
    "    def __init__(self):\n",
    "        super(SiameseNetwork, self).__init__()\n",
    "        self.cnn1 = nn.Sequential(\n",
    "            nn.ReflectionPad2d(1),\n",
    "            nn.Conv2d(1, 4, kernel_size=3),\n",
    "            nn.ReLU(inplace=True),\n",
    "            nn.BatchNorm2d(4),\n",
    "            \n",
    "            nn.ReflectionPad2d(1),\n",
    "            nn.Conv2d(4, 8, kernel_size=3),\n",
    "            nn.ReLU(inplace=True),\n",
    "            nn.BatchNorm2d(8),\n",
    "\n",
    "\n",
    "            nn.ReflectionPad2d(1),\n",
    "            nn.Conv2d(8, 8, kernel_size=3),\n",
    "            nn.ReLU(inplace=True),\n",
    "            nn.BatchNorm2d(8),\n",
    "\n",
    "\n",
    "        )\n",
    "\n",
    "        self.fc1 = nn.Sequential(\n",
    "            nn.Linear(8*28*28, 500),\n",
    "            nn.ReLU(inplace=True),\n",
    "\n",
    "            nn.Linear(500, 500),\n",
    "            nn.ReLU(inplace=True),\n",
    "\n",
    "            nn.Linear(500, 5))\n",
    "\n",
    "    def forward_once(self, x):\n",
    "        output = self.cnn1(x)\n",
    "        output = output.view(output.size()[0], -1)\n",
    "        output = self.fc1(output)\n",
    "        return output\n",
    "\n",
    "    def forward(self, input1, input2):\n",
    "        output1 = self.forward_once(input1)\n",
    "        output2 = self.forward_once(input2)\n",
    "        return output1, output2"
   ]
  },
  {
   "cell_type": "markdown",
   "metadata": {},
   "source": [
    "### Contrastive Loss"
   ]
  },
  {
   "cell_type": "code",
   "execution_count": 10,
   "metadata": {},
   "outputs": [],
   "source": [
    "class ContrastiveLoss(torch.nn.Module):\n",
    "    \"\"\"\n",
    "    Contrastive loss function.\n",
    "    Based on: http://yann.lecun.com/exdb/publis/pdf/hadsell-chopra-lecun-06.pdf\n",
    "    \"\"\"\n",
    "\n",
    "    def __init__(self, margin=2.0):\n",
    "        super(ContrastiveLoss, self).__init__()\n",
    "        self.margin = margin\n",
    "\n",
    "    def forward(self, output1, output2, label):\n",
    "        euclidean_distance = F.pairwise_distance(output1, output2)\n",
    "        loss_contrastive = torch.mean((1-label) * torch.pow(euclidean_distance, 2) +\n",
    "                                      (label) * torch.pow(torch.clamp(self.margin - euclidean_distance, min=0.0), 2))\n",
    "\n",
    "\n",
    "        return loss_contrastive"
   ]
  },
  {
   "cell_type": "code",
   "execution_count": 11,
   "metadata": {},
   "outputs": [],
   "source": [
    "train_dataloader = DataLoader(siamese_dataset,\n",
    "                        shuffle=True,\n",
    "                        num_workers=0,\n",
    "                        batch_size=Config.train_batch_size)"
   ]
  },
  {
   "cell_type": "code",
   "execution_count": 12,
   "metadata": {},
   "outputs": [],
   "source": [
    "net = SiameseNetwork().cuda()\n",
    "criterion = ContrastiveLoss()\n",
    "optimizer = optim.Adam(net.parameters(),lr = 0.0005)"
   ]
  },
  {
   "cell_type": "code",
   "execution_count": 13,
   "metadata": {},
   "outputs": [],
   "source": [
    "counter = []\n",
    "loss_history = [] \n",
    "iteration_number= 0"
   ]
  },
  {
   "cell_type": "code",
   "execution_count": 14,
   "metadata": {},
   "outputs": [
    {
     "name": "stdout",
     "output_type": "stream",
     "text": [
      "Epoch number 0\n",
      " Current loss 2.033193588256836\n",
      "\n",
      "Epoch number 1\n",
      " Current loss 1.3004834651947021\n",
      "\n",
      "Epoch number 2\n",
      " Current loss 1.1278784275054932\n",
      "\n",
      "Epoch number 3\n",
      " Current loss 1.2604271173477173\n",
      "\n",
      "Epoch number 4\n",
      " Current loss 1.239117980003357\n",
      "\n",
      "Epoch number 5\n",
      " Current loss 1.1781364679336548\n",
      "\n",
      "Epoch number 6\n",
      " Current loss 1.1481724977493286\n",
      "\n",
      "Epoch number 7\n",
      " Current loss 1.1969362497329712\n",
      "\n",
      "Epoch number 8\n",
      " Current loss 1.3005529642105103\n",
      "\n",
      "Epoch number 9\n",
      " Current loss 1.2709966897964478\n",
      "\n",
      "Epoch number 10\n",
      " Current loss 1.2014777660369873\n",
      "\n",
      "Epoch number 11\n",
      " Current loss 1.2095694541931152\n",
      "\n",
      "Epoch number 12\n",
      " Current loss 1.196909785270691\n",
      "\n",
      "Epoch number 13\n",
      " Current loss 1.239025354385376\n",
      "\n",
      "Epoch number 14\n",
      " Current loss 1.2099206447601318\n",
      "\n",
      "Epoch number 15\n",
      " Current loss 1.3709263801574707\n",
      "\n",
      "Epoch number 16\n",
      " Current loss 1.2481197118759155\n",
      "\n",
      "Epoch number 17\n",
      " Current loss 1.1391992568969727\n",
      "\n",
      "Epoch number 18\n",
      " Current loss 1.1417912244796753\n",
      "\n",
      "Epoch number 19\n",
      " Current loss 1.1673319339752197\n",
      "\n",
      "Epoch number 20\n",
      " Current loss 1.1395446062088013\n",
      "\n",
      "Epoch number 21\n",
      " Current loss 1.0341620445251465\n",
      "\n",
      "Epoch number 22\n",
      " Current loss 1.1918519735336304\n",
      "\n",
      "Epoch number 23\n",
      " Current loss 1.2940033674240112\n",
      "\n",
      "Epoch number 24\n",
      " Current loss 1.1797149181365967\n",
      "\n",
      "Epoch number 25\n",
      " Current loss 1.3458763360977173\n",
      "\n",
      "Epoch number 26\n",
      " Current loss 1.100966215133667\n",
      "\n",
      "Epoch number 27\n",
      " Current loss 1.1048310995101929\n",
      "\n",
      "Epoch number 28\n",
      " Current loss 1.2562434673309326\n",
      "\n",
      "Epoch number 29\n",
      " Current loss 1.1851686239242554\n",
      "\n",
      "Epoch number 30\n",
      " Current loss 1.254480242729187\n",
      "\n",
      "Epoch number 31\n",
      " Current loss 1.2937304973602295\n",
      "\n",
      "Epoch number 32\n",
      " Current loss 1.1647932529449463\n",
      "\n",
      "Epoch number 33\n",
      " Current loss 1.2368355989456177\n",
      "\n",
      "Epoch number 34\n",
      " Current loss 1.1357070207595825\n",
      "\n",
      "Epoch number 35\n",
      " Current loss 1.1544032096862793\n",
      "\n",
      "Epoch number 36\n",
      " Current loss 1.0999974012374878\n",
      "\n",
      "Epoch number 37\n",
      " Current loss 1.1585164070129395\n",
      "\n",
      "Epoch number 38\n",
      " Current loss 1.002051591873169\n",
      "\n",
      "Epoch number 39\n",
      " Current loss 1.1220217943191528\n",
      "\n",
      "Epoch number 40\n",
      " Current loss 1.208619475364685\n",
      "\n",
      "Epoch number 41\n",
      " Current loss 1.0403602123260498\n",
      "\n",
      "Epoch number 42\n",
      " Current loss 1.364208698272705\n",
      "\n",
      "Epoch number 43\n",
      " Current loss 1.1871449947357178\n",
      "\n",
      "Epoch number 44\n",
      " Current loss 1.2642415761947632\n",
      "\n",
      "Epoch number 45\n",
      " Current loss 1.1399389505386353\n",
      "\n",
      "Epoch number 46\n",
      " Current loss 1.1443641185760498\n",
      "\n",
      "Epoch number 47\n",
      " Current loss 1.1720210313796997\n",
      "\n",
      "Epoch number 48\n",
      " Current loss 1.3901036977767944\n",
      "\n",
      "Epoch number 49\n",
      " Current loss 1.1928751468658447\n",
      "\n",
      "Epoch number 50\n",
      " Current loss 1.1979314088821411\n",
      "\n",
      "Epoch number 51\n",
      " Current loss 1.1258833408355713\n",
      "\n",
      "Epoch number 52\n",
      " Current loss 1.1816561222076416\n",
      "\n",
      "Epoch number 53\n",
      " Current loss 1.1779062747955322\n",
      "\n",
      "Epoch number 54\n",
      " Current loss 1.29258131980896\n",
      "\n",
      "Epoch number 55\n",
      " Current loss 1.1290606260299683\n",
      "\n",
      "Epoch number 56\n",
      " Current loss 1.1154026985168457\n",
      "\n",
      "Epoch number 57\n",
      " Current loss 1.4492835998535156\n",
      "\n",
      "Epoch number 58\n",
      " Current loss 1.1541858911514282\n",
      "\n",
      "Epoch number 59\n",
      " Current loss 1.21994948387146\n",
      "\n",
      "Epoch number 60\n",
      " Current loss 1.1780762672424316\n",
      "\n",
      "Epoch number 61\n",
      " Current loss 1.1418912410736084\n",
      "\n",
      "Epoch number 62\n",
      " Current loss 1.1245384216308594\n",
      "\n",
      "Epoch number 63\n",
      " Current loss 1.3613959550857544\n",
      "\n",
      "Epoch number 64\n",
      " Current loss 1.2410106658935547\n",
      "\n",
      "Epoch number 65\n",
      " Current loss 1.2395753860473633\n",
      "\n",
      "Epoch number 66\n",
      " Current loss 1.2174278497695923\n",
      "\n",
      "Epoch number 67\n",
      " Current loss 1.2037484645843506\n",
      "\n",
      "Epoch number 68\n",
      " Current loss 1.1405565738677979\n",
      "\n",
      "Epoch number 69\n",
      " Current loss 1.175260066986084\n",
      "\n",
      "Epoch number 70\n",
      " Current loss 1.2103710174560547\n",
      "\n",
      "Epoch number 71\n",
      " Current loss 1.1477129459381104\n",
      "\n",
      "Epoch number 72\n",
      " Current loss 1.2389299869537354\n",
      "\n",
      "Epoch number 73\n",
      " Current loss 1.399720311164856\n",
      "\n",
      "Epoch number 74\n",
      " Current loss 1.137846827507019\n",
      "\n",
      "Epoch number 75\n",
      " Current loss 1.1843481063842773\n",
      "\n",
      "Epoch number 76\n",
      " Current loss 1.2803535461425781\n",
      "\n",
      "Epoch number 77\n",
      " Current loss 1.2461169958114624\n",
      "\n",
      "Epoch number 78\n",
      " Current loss 1.1533318758010864\n",
      "\n",
      "Epoch number 79\n",
      " Current loss 1.059978723526001\n",
      "\n",
      "Epoch number 80\n",
      " Current loss 1.198779821395874\n",
      "\n",
      "Epoch number 81\n",
      " Current loss 1.2349002361297607\n",
      "\n",
      "Epoch number 82\n",
      " Current loss 1.2665865421295166\n",
      "\n",
      "Epoch number 83\n",
      " Current loss 1.188193678855896\n",
      "\n",
      "Epoch number 84\n",
      " Current loss 1.2463154792785645\n",
      "\n",
      "Epoch number 85\n",
      " Current loss 1.297372579574585\n",
      "\n",
      "Epoch number 86\n",
      " Current loss 1.1221699714660645\n",
      "\n",
      "Epoch number 87\n",
      " Current loss 1.226165771484375\n",
      "\n",
      "Epoch number 88\n",
      " Current loss 1.1587573289871216\n",
      "\n",
      "Epoch number 89\n",
      " Current loss 1.2987877130508423\n",
      "\n",
      "Epoch number 90\n",
      " Current loss 1.1920216083526611\n",
      "\n",
      "Epoch number 91\n",
      " Current loss 1.227125883102417\n",
      "\n",
      "Epoch number 92\n",
      " Current loss 1.286216139793396\n",
      "\n",
      "Epoch number 93\n",
      " Current loss 1.0608152151107788\n",
      "\n",
      "Epoch number 94\n",
      " Current loss 1.2439556121826172\n",
      "\n",
      "Epoch number 95\n",
      " Current loss 1.1502455472946167\n",
      "\n",
      "Epoch number 96\n",
      " Current loss 1.1882165670394897\n",
      "\n",
      "Epoch number 97\n",
      " Current loss 1.1315935850143433\n",
      "\n",
      "Epoch number 98\n",
      " Current loss 1.1176317930221558\n",
      "\n",
      "Epoch number 99\n",
      " Current loss 1.1104806661605835\n",
      "\n"
     ]
    },
    {
     "data": {
      "image/png": "[encoded data removed]",
      "text/plain": [
       "<Figure size 432x288 with 1 Axes>"
      ]
     },
     "metadata": {
      "needs_background": "light"
     },
     "output_type": "display_data"
    }
   ],
   "source": [
    "for epoch in range(0,Config.train_number_epochs):\n",
    "    for i, data in enumerate(train_dataloader,0):\n",
    "        img0, img1 , label = data\n",
    "        img0, img1 , label = img0.cuda(), img1.cuda() , label.cuda()\n",
    "        optimizer.zero_grad()\n",
    "        output1,output2 = net(img0,img1)\n",
    "        loss_contrastive = criterion(output1,output2,label)\n",
    "        loss_contrastive.backward()\n",
    "        optimizer.step()\n",
    "        if i %10 == 0 :\n",
    "            print(\"Epoch number {}\\n Current loss {}\\n\".format(epoch,loss_contrastive.item()))\n",
    "            iteration_number +=10\n",
    "            counter.append(iteration_number)\n",
    "            loss_history.append(loss_contrastive.item())\n",
    "show_plot(counter,loss_history)"
   ]
  },
  {
   "cell_type": "markdown",
   "metadata": {},
   "source": [
    "### Testing"
   ]
  },
  {
   "cell_type": "code",
   "execution_count": 15,
   "metadata": {},
   "outputs": [
    {
     "data": {
      "image/png": "[encoded data removed]",
      "text/plain": [
       "<Figure size 432x288 with 1 Axes>"
      ]
     },
     "metadata": {
      "needs_background": "light"
     },
     "output_type": "display_data"
    },
    {
     "data": {
      "image/png": "[encoded data removed]",
      "text/plain": [
       "<Figure size 432x288 with 1 Axes>"
      ]
     },
     "metadata": {
      "needs_background": "light"
     },
     "output_type": "display_data"
    },
    {
     "data": {
      "image/png": "[encoded data removed]",
      "text/plain": [
       "<Figure size 432x288 with 1 Axes>"
      ]
     },
     "metadata": {
      "needs_background": "light"
     },
     "output_type": "display_data"
    },
    {
     "data": {
      "image/png": "[encoded data removed]",
      "text/plain": [
       "<Figure size 432x288 with 1 Axes>"
      ]
     },
     "metadata": {
      "needs_background": "light"
     },
     "output_type": "display_data"
    },
    {
     "data": {
      "image/png": "[encoded data removed]",
      "text/plain": [
       "<Figure size 432x288 with 1 Axes>"
      ]
     },
     "metadata": {
      "needs_background": "light"
     },
     "output_type": "display_data"
    },
    {
     "data": {
      "image/png": "[encoded data removed]",
      "text/plain": [
       "<Figure size 432x288 with 1 Axes>"
      ]
     },
     "metadata": {
      "needs_background": "light"
     },
     "output_type": "display_data"
    },
    {
     "data": {
      "image/png": "[encoded data removed]",
      "text/plain": [
       "<Figure size 432x288 with 1 Axes>"
      ]
     },
     "metadata": {
      "needs_background": "light"
     },
     "output_type": "display_data"
    },
    {
     "data": {
      "image/png": "[encoded data removed]",
      "text/plain": [
       "<Figure size 432x288 with 1 Axes>"
      ]
     },
     "metadata": {
      "needs_background": "light"
     },
     "output_type": "display_data"
    },
    {
     "ename": "StopIteration",
     "evalue": "",
     "output_type": "error",
     "traceback": [
      "\u001b[1;31m---------------------------------------------------------------------------\u001b[0m",
      "\u001b[1;31mStopIteration\u001b[0m                             Traceback (most recent call last)",
      "\u001b[1;32m<ipython-input-15-5586543a4776>\u001b[0m in \u001b[0;36m<module>\u001b[1;34m()\u001b[0m\n\u001b[0;32m     11\u001b[0m \u001b[1;33m\u001b[0m\u001b[0m\n\u001b[0;32m     12\u001b[0m \u001b[1;32mfor\u001b[0m \u001b[0mi\u001b[0m \u001b[1;32min\u001b[0m \u001b[0mrange\u001b[0m\u001b[1;33m(\u001b[0m\u001b[1;36m10\u001b[0m\u001b[1;33m)\u001b[0m\u001b[1;33m:\u001b[0m\u001b[1;33m\u001b[0m\u001b[0m\n\u001b[1;32m---> 13\u001b[1;33m     \u001b[0m_\u001b[0m\u001b[1;33m,\u001b[0m\u001b[0mx1\u001b[0m\u001b[1;33m,\u001b[0m\u001b[0mlabel2\u001b[0m \u001b[1;33m=\u001b[0m \u001b[0mnext\u001b[0m\u001b[1;33m(\u001b[0m\u001b[0mdataiter\u001b[0m\u001b[1;33m)\u001b[0m\u001b[1;33m\u001b[0m\u001b[0m\n\u001b[0m\u001b[0;32m     14\u001b[0m     \u001b[0mconcatenated\u001b[0m \u001b[1;33m=\u001b[0m \u001b[0mtorch\u001b[0m\u001b[1;33m.\u001b[0m\u001b[0mcat\u001b[0m\u001b[1;33m(\u001b[0m\u001b[1;33m(\u001b[0m\u001b[0mx0\u001b[0m\u001b[1;33m,\u001b[0m\u001b[0mx1\u001b[0m\u001b[1;33m)\u001b[0m\u001b[1;33m,\u001b[0m\u001b[1;36m0\u001b[0m\u001b[1;33m)\u001b[0m\u001b[1;33m\u001b[0m\u001b[0m\n\u001b[0;32m     15\u001b[0m \u001b[1;33m\u001b[0m\u001b[0m\n",
      "\u001b[1;32mB:\\Programs\\Anaconda\\envs\\GPU_ENV\\lib\\site-packages\\torch\\utils\\data\\dataloader.py\u001b[0m in \u001b[0;36m__next__\u001b[1;34m(self)\u001b[0m\n\u001b[0;32m    311\u001b[0m     \u001b[1;32mdef\u001b[0m \u001b[0m__next__\u001b[0m\u001b[1;33m(\u001b[0m\u001b[0mself\u001b[0m\u001b[1;33m)\u001b[0m\u001b[1;33m:\u001b[0m\u001b[1;33m\u001b[0m\u001b[0m\n\u001b[0;32m    312\u001b[0m         \u001b[1;32mif\u001b[0m \u001b[0mself\u001b[0m\u001b[1;33m.\u001b[0m\u001b[0mnum_workers\u001b[0m \u001b[1;33m==\u001b[0m \u001b[1;36m0\u001b[0m\u001b[1;33m:\u001b[0m  \u001b[1;31m# same-process loading\u001b[0m\u001b[1;33m\u001b[0m\u001b[0m\n\u001b[1;32m--> 313\u001b[1;33m             \u001b[0mindices\u001b[0m \u001b[1;33m=\u001b[0m \u001b[0mnext\u001b[0m\u001b[1;33m(\u001b[0m\u001b[0mself\u001b[0m\u001b[1;33m.\u001b[0m\u001b[0msample_iter\u001b[0m\u001b[1;33m)\u001b[0m  \u001b[1;31m# may raise StopIteration\u001b[0m\u001b[1;33m\u001b[0m\u001b[0m\n\u001b[0m\u001b[0;32m    314\u001b[0m             \u001b[0mbatch\u001b[0m \u001b[1;33m=\u001b[0m \u001b[0mself\u001b[0m\u001b[1;33m.\u001b[0m\u001b[0mcollate_fn\u001b[0m\u001b[1;33m(\u001b[0m\u001b[1;33m[\u001b[0m\u001b[0mself\u001b[0m\u001b[1;33m.\u001b[0m\u001b[0mdataset\u001b[0m\u001b[1;33m[\u001b[0m\u001b[0mi\u001b[0m\u001b[1;33m]\u001b[0m \u001b[1;32mfor\u001b[0m \u001b[0mi\u001b[0m \u001b[1;32min\u001b[0m \u001b[0mindices\u001b[0m\u001b[1;33m]\u001b[0m\u001b[1;33m)\u001b[0m\u001b[1;33m\u001b[0m\u001b[0m\n\u001b[0;32m    315\u001b[0m             \u001b[1;32mif\u001b[0m \u001b[0mself\u001b[0m\u001b[1;33m.\u001b[0m\u001b[0mpin_memory\u001b[0m\u001b[1;33m:\u001b[0m\u001b[1;33m\u001b[0m\u001b[0m\n",
      "\u001b[1;31mStopIteration\u001b[0m: "
     ]
    }
   ],
   "source": [
    "folder_dataset_test = dset.ImageFolder(root=Config.testing_dir)\n",
    "siamese_dataset = SiameseNetworkDataset(imageFolderDataset=folder_dataset_test,\n",
    "                                        transform=transforms.Compose([transforms.Resize((28,28)),\n",
    "                                                                      transforms.ToTensor()\n",
    "                                                                      ])\n",
    "                                       ,should_invert=False)\n",
    "\n",
    "test_dataloader = DataLoader(siamese_dataset,num_workers=0,batch_size=1,shuffle=True)\n",
    "dataiter = iter(test_dataloader)\n",
    "x0,_,_ = next(dataiter)\n",
    "\n",
    "for i in range(10):\n",
    "    _,x1,label2 = next(dataiter)\n",
    "    concatenated = torch.cat((x0,x1),0)\n",
    "    \n",
    "    output1,output2 = net(Variable(x0).cuda(),Variable(x1).cuda())\n",
    "    euclidean_distance = F.pairwise_distance(output1, output2)\n",
    "    imshow(torchvision.utils.make_grid(concatenated),'Dissimilarity: {:.2f}'.format(euclidean_distance.item()))\n",
    "\n"
   ]
  }
 ],
 "metadata": {
  "kernelspec": {
   "display_name": "Python 3",
   "language": "python",
   "name": "python3"
  },
  "language_info": {
   "codemirror_mode": {
    "name": "ipython",
    "version": 3
   },
   "file_extension": ".py",
   "mimetype": "text/x-python",
   "name": "python",
   "nbconvert_exporter": "python",
   "pygments_lexer": "ipython3",
   "version": "3.6.6"
  }
 },
 "nbformat": 4,
 "nbformat_minor": 2
}
